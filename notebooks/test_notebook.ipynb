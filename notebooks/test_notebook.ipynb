{
 "cells": [
  {
   "cell_type": "code",
   "execution_count": null,
   "metadata": {},
   "outputs": [],
   "source": [
    "from src.utils import output_logits, generate_data\n",
    "from src.extractors import extract_hs_gpt2\n",
    "# testing with gpt-2 as it is small enough to load and play with \n",
    "from datasets import load_dataset\n",
    "from transformers import pipeline\n",
    "from sklearn.decomposition import PCA\n",
    "from sklearn.manifold import TSNE\n",
    "\n",
    "import seaborn as sns \n",
    "import matplotlib.pyplot as plt"
   ]
  },
  {
   "cell_type": "code",
   "execution_count": null,
   "metadata": {},
   "outputs": [],
   "source": [
    "\n",
    "\n",
    "dataset = load_dataset(\"rotten_tomatoes\", split='train')\n",
    "dataset = dataset.shuffle(0).select(range(100))\n",
    "\n",
    "\n",
    "pipe = pipeline(\"text-generation\", model=\"openai-community/gpt2\")"
   ]
  },
  {
   "cell_type": "code",
   "execution_count": null,
   "metadata": {},
   "outputs": [],
   "source": [
    "template_no_answer = ''' Movie rec\n",
    "                        Text: \"{x}\"\n",
    "                    '''\n",
    "prompts, out_tensor_no_answer = generate_data(template_no_answer, dataset, lambda x: extract_hs_gpt2(x, pipe), batch_size=16)\n",
    "\n"
   ]
  },
  {
   "cell_type": "code",
   "execution_count": null,
   "metadata": {},
   "outputs": [],
   "source": [
    "output_logits(template_no_answer.format(x='worst move I have ever watched'), pipe)[0:5]"
   ]
  },
  {
   "cell_type": "code",
   "execution_count": null,
   "metadata": {},
   "outputs": [],
   "source": [
    "X1 = TSNE(n_components=2).fit_transform(PCA(n_components=100).fit_transform(out_tensor_no_answer.numpy()))\n",
    "\n",
    "plt.figure(figsize=(3,3))\n",
    "sns.scatterplot(x=X1[:,0], y=X1[:,1], hue=dataset['label'])"
   ]
  }
 ],
 "metadata": {
  "kernelspec": {
   "display_name": "struct_gen_utils",
   "language": "python",
   "name": "python3"
  },
  "language_info": {
   "codemirror_mode": {
    "name": "ipython",
    "version": 3
   },
   "file_extension": ".py",
   "mimetype": "text/x-python",
   "name": "python",
   "nbconvert_exporter": "python",
   "pygments_lexer": "ipython3",
   "version": "3.9.9"
  }
 },
 "nbformat": 4,
 "nbformat_minor": 2
}
